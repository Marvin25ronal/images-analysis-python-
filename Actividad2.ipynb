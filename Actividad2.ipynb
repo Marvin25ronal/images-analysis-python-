{
 "cells": [
  {
   "cell_type": "markdown",
   "id": "422f0c63",
   "metadata": {},
   "source": [
    "# Actividad reconocimiento de placas"
   ]
  },
  {
   "cell_type": "markdown",
   "id": "ae24cef2",
   "metadata": {},
   "source": [
    "# Pregunta #1"
   ]
  },
  {
   "cell_type": "raw",
   "id": "9db6181a",
   "metadata": {},
   "source": [
    "1.\tEn el siguiente código vamos a leer la imagen de un coche tanto a color como en  niveles de gris, responde correctamente cuales son los valores correctos que arroja alto 1 y ancho 1 y cuantos canales tiene."
   ]
  },
  {
   "cell_type": "code",
   "execution_count": 5,
   "id": "93591242",
   "metadata": {},
   "outputs": [
    {
     "name": "stdout",
     "output_type": "stream",
     "text": [
      "alto:  248  ancho:  400  canales: 3\n",
      "alto:  248  ancho:  400\n"
     ]
    }
   ],
   "source": [
    "import cv2 as cv\n",
    "\n",
    "img01=cv.imread('cars96.png')\n",
    "img02=cv.imread('cars96.png',cv.IMREAD_GRAYSCALE)\n",
    "alto1, ancho1, canales1 = img01.shape\n",
    "alto2, ancho2 = img02.shape\n",
    "\n",
    "print(\"alto: \",alto1,\" ancho: \",ancho1,\" canales:\", canales1)\n",
    "print(\"alto: \",alto2,\" ancho: \",ancho2)\n",
    "\n",
    "cv.imshow(\"img01\",img01)\n",
    "cv.imshow(\"img02\",img02)\n",
    "cv.waitKey(0)\n",
    "cv.destroyAllWindows()\n"
   ]
  },
  {
   "cell_type": "markdown",
   "id": "4adf26dc",
   "metadata": {},
   "source": [
    "# Pregunta 2"
   ]
  },
  {
   "cell_type": "raw",
   "id": "10516621",
   "metadata": {},
   "source": [
    "2.\tEl kernel aplicado a la imagen es un filtro espacial____, y el  resultado es la imagen."
   ]
  },
  {
   "cell_type": "code",
   "execution_count": 20,
   "id": "df4b0690",
   "metadata": {},
   "outputs": [],
   "source": [
    "import cv2 as cv\n",
    "import numpy as np\n",
    "\n",
    "img_gris=cv.imread('cars3.png',cv.IMREAD_GRAYSCALE)\n",
    "\n",
    "kernel = np.array([[-1, -1, -1],\n",
    "                    [-1, 8, -1],\n",
    "                    [-1, -1, -1]])\n",
    "# kernel = np.array([[-1, -1, -1],\n",
    "#                     [0, 0, 0],\n",
    "#                     [1, 1, 1]])\n",
    "\n",
    "# kernel = np.array([[1, 1, 0],\n",
    "#                     [0, -1, -1],\n",
    "#                     [1, 0, -1]])\n",
    "img_ker = cv.filter2D(src=img_gris, ddepth=-1, kernel=kernel)\n",
    " \n",
    "cv.imshow('Imagen con Kernel', img_ker)\n",
    "cv.waitKey(0)\n",
    "cv.destroyAllWindows()\n"
   ]
  },
  {
   "cell_type": "raw",
   "id": "3b66df2f",
   "metadata": {},
   "source": [
    "Prueba con otros kernels \n",
    "kernel = np.array([[-1, -1, -1],\n",
    "                    [0, 0, 0],\n",
    "                    [1, 1, 1]])\n"
   ]
  },
  {
   "cell_type": "markdown",
   "id": "b916c3d6",
   "metadata": {},
   "source": [
    "# Pregunta 3"
   ]
  },
  {
   "cell_type": "code",
   "execution_count": 23,
   "id": "4b95802e",
   "metadata": {},
   "outputs": [],
   "source": [
    "import cv2 as cv\n",
    "\n",
    "img_gris=cv.imread('cars296.png',cv.IMREAD_GRAYSCALE)\n",
    "kernel = cv.GaussianBlur(img_gris, (9, 9), 0)\n",
    "\n",
    "cv.imshow(\"Imagen\",img_gris)\n",
    "cv.imshow(\"Imagen con Filtro\",kernel)\n",
    "cv.waitKey(0)\n",
    "cv.destroyAllWindows()\n"
   ]
  },
  {
   "cell_type": "raw",
   "id": "9035de56",
   "metadata": {},
   "source": [
    "Modifica el tamaño del kernel (3,3), (11,11), y la desviación estándar"
   ]
  },
  {
   "cell_type": "markdown",
   "id": "1412bec2",
   "metadata": {},
   "source": [
    "# Pregunta 4"
   ]
  },
  {
   "cell_type": "code",
   "execution_count": 24,
   "id": "3745bd88",
   "metadata": {},
   "outputs": [],
   "source": [
    "# Carga la imagen en color\n",
    "import cv2 as cv\n",
    "img = cv.imread('coche11.jpeg')\n",
    "\n",
    "# Separa los canales de color de la imagen\n",
    "b, g, r = cv.split(img)\n",
    "\n",
    "# Ecualiza el histograma de cada canal de color\n",
    "b_eq = cv.equalizeHist(b)\n",
    "g_eq = cv.equalizeHist(g)\n",
    "r_eq = cv.equalizeHist(r)\n",
    "\n",
    "# Combina los canales de nuevo en una sola imagen\n",
    "img_eq = cv.merge((b_eq, g_eq, r_eq))\n",
    "cv.imshow('Equalizada', img_eq)\n",
    "cv.waitKey(0)\n",
    "cv.destroyAllWindows()\n"
   ]
  },
  {
   "cell_type": "markdown",
   "id": "24a9433a",
   "metadata": {},
   "source": [
    "# Ecualización adaptativa"
   ]
  },
  {
   "cell_type": "raw",
   "id": "0133ae65",
   "metadata": {},
   "source": [
    "Aplica ecualización adaptativa a la imagen en niveles de gris\n",
    "clipLimit: Este parámetro especifica el límite de ajuste de contraste para cada ventana local. Un valor más alto significa que se realizará un ajuste de contraste más agresivo en cada ventana.\n",
    "\n",
    "tileGridSize: Este parámetro especifica el tamaño de la ventana en píxeles que se utiliza para ajustar el contraste localmente. Un tamaño de ventana más grande significa que se tomarán en cuenta más píxeles en el cálculo de la transformación de contraste para cada ventana.\n",
    "\n",
    "prueba con diferentes valores de clipLimit y tileGridSize"
   ]
  },
  {
   "cell_type": "code",
   "execution_count": 25,
   "id": "e72c4081",
   "metadata": {},
   "outputs": [],
   "source": [
    "import cv2 as cv\n",
    "\n",
    "img=cv.imread('coche11.jpeg',cv.IMREAD_GRAYSCALE)\n",
    "clahe = cv.createCLAHE(clipLimit=5.0, tileGridSize=(8,8))\n",
    "equ01 = clahe.apply(img)\n",
    "\n",
    "equ02 = cv.equalizeHist(img)\n",
    "# Mostrar la imagen original y la imagen equalizada\n",
    "cv.imshow('Original', img)\n",
    "cv.imshow('Equalizada Adaptativa', equ01)\n",
    "cv.imshow('Equalizada',equ02)\n",
    "cv.waitKey(0)\n",
    "cv.destroyAllWindows()\n"
   ]
  },
  {
   "cell_type": "markdown",
   "id": "2d6db95f",
   "metadata": {},
   "source": [
    "# Pregunta 5 Reconocimiento de placas"
   ]
  },
  {
   "cell_type": "code",
   "execution_count": 29,
   "id": "02ea1285",
   "metadata": {},
   "outputs": [],
   "source": [
    "import cv2 as cv\n",
    "import numpy as np\n",
    "\n",
    "#leemos imagen a clor img_color y la convertimos a niveles de gris\n",
    "img_color = cv.imread('coche16.jpeg')\n",
    "img_gris=cv.imread('coche16.jpeg',cv.IMREAD_GRAYSCALE)\n",
    "\n",
    "#aplicams un filtro gaussiano\n",
    "blur = cv.GaussianBlur(img_gris, (11,11), 0)\n",
    "cv.imshow(\"Gaussiano\",blur)\n",
    "\n",
    "#alicamos mejora de contraste adaptativo\n",
    "clahe = cv.createCLAHE(clipLimit=1.5, tileGridSize=(8,8))\n",
    "equ01 = clahe.apply(blur)\n",
    "cv.imshow(\"Ajuste de contraste\", equ01)\n",
    "\n",
    "#aplicamos el métod de binarización de Otsu\n",
    "otsu_threshold, otsu01 = cv.threshold( equ01, 0, 255, cv.THRESH_OTSU)\n",
    "cv.imshow(\"Imagen binarizada\",otsu01)\n",
    "\n",
    "#Aplicamos Canny\n",
    "edges = cv.Canny(otsu01, 150, 350)\n",
    "cv.imshow(\"Canny\", edges)\n",
    "\n",
    "#obtenemos contornos a artir de los bordes de Canny\n",
    "contours, hierarchy = cv.findContours(edges, cv.RETR_EXTERNAL, cv.CHAIN_APPROX_SIMPLE)\n",
    "#Seleccionamos aquellos contornos que cumplen determinada condición\n",
    "long_contours = [cnt for cnt in contours if (cv.arcLength(cnt, True) > 200 \n",
    "                                             and (cv.arcLength(cnt, True) < 700))]\n",
    "\n",
    "#de cada contorno obtenemos las coordenadas que encierran en un cuadrado a dicho contorno\n",
    "alto, ancho, canales = img_color.shape\n",
    "for lonc in (long_contours):\n",
    "    #lonc contiene las coordenadas que forman un contorno\n",
    "    r= [x for [[x,y]]  in lonc]\n",
    "    s=[y for [[x,y]]  in lonc]\n",
    "    prop=(max(s)-min(s))-(max(r)-min(r))\n",
    "    #seleccionamos aquellas cuya ancho sea mayor que su altura\n",
    "    if ((max(s)> round(alto/2)) and (prop<0)):\n",
    "        cv.rectangle(img_color,(min(r),min(s)),(max(r),max(s)),(0,255,0),3)             \n",
    "\n",
    "cv.imshow(\"Imagen resultante\", img_color)\n",
    "cv.waitKey()\n",
    "cv.destroyAllWindows()\n"
   ]
  },
  {
   "cell_type": "markdown",
   "id": "c4c42cbf",
   "metadata": {},
   "source": [
    "# Pregunta 6"
   ]
  },
  {
   "cell_type": "markdown",
   "id": "3216f5d4-f1bb-441a-a3ee-f7df73b3361d",
   "metadata": {},
   "source": [
    "Modifica el código de la pregunta 5 para eliminar el paso del filtro gaussiano, y aplicar el filtro gaussiano directamente a la imagen en niveles de gris"
   ]
  },
  {
   "cell_type": "code",
   "execution_count": 5,
   "id": "ba2d83fe-2cf4-452d-b362-62726094c185",
   "metadata": {},
   "outputs": [],
   "source": [
    "import cv2 as cv\n",
    "import numpy as np\n",
    "\n",
    "#leemos imagen a clor img_color y la convertimos a niveles de gris\n",
    "img_color = cv.imread('coche14.jpeg')\n",
    "img_gris=cv.imread('coche14.jpeg',cv.IMREAD_GRAYSCALE)\n",
    "\n",
    "#aplicams un filtro gaussiano\n",
    "# blur = cv.GaussianBlur(img_gris, (11,11), 0)\n",
    "# cv.imshow(\"Gaussiano\",blur)\n",
    "\n",
    "#alicamos mejora de contraste adaptativo\n",
    "clahe = cv.createCLAHE(clipLimit=1.5, tileGridSize=(8,8))\n",
    "equ01 = clahe.apply(img_gris)\n",
    "cv.imshow(\"Ajuste de contraste\", equ01)\n",
    "\n",
    "#aplicamos el métod de binarización de Otsu\n",
    "otsu_threshold, otsu01 = cv.threshold( equ01, 0, 255, cv.THRESH_OTSU)\n",
    "cv.imshow(\"Imagen binarizada\",otsu01)\n",
    "\n",
    "#Aplicamos Canny\n",
    "edges = cv.Canny(otsu01, 150, 350)\n",
    "cv.imshow(\"Canny\", edges)\n",
    "\n",
    "#obtenemos contornos a artir de los bordes de Canny\n",
    "contours, hierarchy = cv.findContours(edges, cv.RETR_EXTERNAL, cv.CHAIN_APPROX_SIMPLE)\n",
    "#Seleccionamos aquellos contornos que cumplen determinada condición\n",
    "long_contours = [cnt for cnt in contours if (cv.arcLength(cnt, True) > 200 \n",
    "                                             and (cv.arcLength(cnt, True) < 700))]\n",
    "\n",
    "#de cada contorno obtenemos las coordenadas que encierran en un cuadrado a dicho contorno\n",
    "alto, ancho, canales = img_color.shape\n",
    "for lonc in (long_contours):\n",
    "    #lonc contiene las coordenadas que forman un contorno\n",
    "    r= [x for [[x,y]]  in lonc]\n",
    "    s=[y for [[x,y]]  in lonc]\n",
    "    prop=(max(s)-min(s))-(max(r)-min(r))\n",
    "    #seleccionamos aquellas cuya ancho sea mayor que su altura\n",
    "    if ((max(s)> round(alto/2)) and (prop<0)):\n",
    "        cv.rectangle(img_color,(min(r),min(s)),(max(r),max(s)),(0,255,0),3)             \n",
    "\n",
    "cv.imshow(\"Imagen resultante\", img_color)\n",
    "cv.waitKey()\n",
    "cv.destroyAllWindows()"
   ]
  },
  {
   "cell_type": "markdown",
   "id": "7cdbd89b",
   "metadata": {},
   "source": [
    "# Pregunta 7"
   ]
  },
  {
   "cell_type": "raw",
   "id": "f86797f0",
   "metadata": {},
   "source": [
    "Identifica cuantas placas detecta si aplicas el algoritmo de detección de placas a la imagen \"coche14.jpg\""
   ]
  },
  {
   "cell_type": "code",
   "execution_count": 6,
   "id": "a01ccb25-80d3-45f6-b618-21c49a7f8209",
   "metadata": {},
   "outputs": [],
   "source": [
    "import cv2 as cv\n",
    "import numpy as np\n",
    "\n",
    "#leemos imagen a clor img_color y la convertimos a niveles de gris\n",
    "img_color = cv.imread('coche14.jpeg')\n",
    "img_gris=cv.imread('coche14.jpeg',cv.IMREAD_GRAYSCALE)\n",
    "\n",
    "\n",
    "# aplicams un filtro gaussiano\n",
    "blur = cv.GaussianBlur(img_gris, (11,11), 0)\n",
    "cv.imshow(\"Gaussiano\",blur)\n",
    "\n",
    "#alicamos mejora de contraste adaptativo\n",
    "clahe = cv.createCLAHE(clipLimit=1.5, tileGridSize=(8,8))\n",
    "equ01 = clahe.apply(blur)\n",
    "cv.imshow(\"Ajuste de contraste\", equ01)\n",
    "\n",
    "#aplicamos el métod de binarización de Otsu\n",
    "otsu_threshold, otsu01 = cv.threshold( equ01, 0, 255, cv.THRESH_OTSU)\n",
    "cv.imshow(\"Imagen binarizada\",otsu01)\n",
    "\n",
    "#Aplicamos Canny\n",
    "edges = cv.Canny(otsu01, 150, 350)\n",
    "cv.imshow(\"Canny\", edges)\n",
    "\n",
    "#obtenemos contornos a artir de los bordes de Canny\n",
    "contours, hierarchy = cv.findContours(edges, cv.RETR_EXTERNAL, cv.CHAIN_APPROX_SIMPLE)\n",
    "#Seleccionamos aquellos contornos que cumplen determinada condición\n",
    "long_contours = [cnt for cnt in contours if (cv.arcLength(cnt, True) > 200 \n",
    "                                             and (cv.arcLength(cnt, True) < 700))]\n",
    "\n",
    "#de cada contorno obtenemos las coordenadas que encierran en un cuadrado a dicho contorno\n",
    "alto, ancho, canales = img_color.shape\n",
    "for lonc in (long_contours):\n",
    "    #lonc contiene las coordenadas que forman un contorno\n",
    "    r= [x for [[x,y]]  in lonc]\n",
    "    s=[y for [[x,y]]  in lonc]\n",
    "    prop=(max(s)-min(s))-(max(r)-min(r))\n",
    "    #seleccionamos aquellas cuya ancho sea mayor que su altura\n",
    "    if ((max(s)> round(alto/2)) and (prop<0)):\n",
    "        cv.rectangle(img_color,(min(r),min(s)),(max(r),max(s)),(0,255,0),3)             \n",
    "\n",
    "cv.imshow(\"Imagen resultante\", img_color)\n",
    "cv.waitKey()\n",
    "cv.destroyAllWindows()"
   ]
  },
  {
   "cell_type": "markdown",
   "id": "41872a91",
   "metadata": {},
   "source": [
    "# Pregunta 8 "
   ]
  },
  {
   "cell_type": "raw",
   "id": "918f5309",
   "metadata": {},
   "source": [
    "Modifica el código original de la pregunta 5 para aplicar un kernel gaussiano de 3x3"
   ]
  },
  {
   "cell_type": "code",
   "execution_count": 7,
   "id": "f617e73d-99a3-4b3f-a5c3-0623d95d4ec5",
   "metadata": {},
   "outputs": [],
   "source": [
    "import cv2 as cv\n",
    "import numpy as np\n",
    "\n",
    "#leemos imagen a clor img_color y la convertimos a niveles de gris\n",
    "img_color = cv.imread('cars34.png')\n",
    "img_gris=cv.imread('cars34.png',cv.IMREAD_GRAYSCALE)\n",
    "\n",
    "\n",
    "# aplicams un filtro gaussiano\n",
    "blur = cv.GaussianBlur(img_gris, (3,3), 0)\n",
    "cv.imshow(\"Gaussiano\",blur)\n",
    "\n",
    "#alicamos mejora de contraste adaptativo\n",
    "clahe = cv.createCLAHE(clipLimit=1.5, tileGridSize=(8,8))\n",
    "equ01 = clahe.apply(blur)\n",
    "cv.imshow(\"Ajuste de contraste\", equ01)\n",
    "\n",
    "#aplicamos el métod de binarización de Otsu\n",
    "otsu_threshold, otsu01 = cv.threshold( equ01, 0, 255, cv.THRESH_OTSU)\n",
    "cv.imshow(\"Imagen binarizada\",otsu01)\n",
    "\n",
    "#Aplicamos Canny\n",
    "edges = cv.Canny(otsu01, 150, 350)\n",
    "cv.imshow(\"Canny\", edges)\n",
    "\n",
    "#obtenemos contornos a artir de los bordes de Canny\n",
    "contours, hierarchy = cv.findContours(edges, cv.RETR_EXTERNAL, cv.CHAIN_APPROX_SIMPLE)\n",
    "#Seleccionamos aquellos contornos que cumplen determinada condición\n",
    "long_contours = [cnt for cnt in contours if (cv.arcLength(cnt, True) > 200 \n",
    "                                             and (cv.arcLength(cnt, True) < 700))]\n",
    "\n",
    "#de cada contorno obtenemos las coordenadas que encierran en un cuadrado a dicho contorno\n",
    "alto, ancho, canales = img_color.shape\n",
    "for lonc in (long_contours):\n",
    "    #lonc contiene las coordenadas que forman un contorno\n",
    "    r= [x for [[x,y]]  in lonc]\n",
    "    s=[y for [[x,y]]  in lonc]\n",
    "    prop=(max(s)-min(s))-(max(r)-min(r))\n",
    "    #seleccionamos aquellas cuya ancho sea mayor que su altura\n",
    "    if ((max(s)> round(alto/2)) and (prop<0)):\n",
    "        cv.rectangle(img_color,(min(r),min(s)),(max(r),max(s)),(0,255,0),3)             \n",
    "\n",
    "cv.imshow(\"Imagen resultante\", img_color)\n",
    "cv.waitKey()\n",
    "cv.destroyAllWindows()"
   ]
  },
  {
   "cell_type": "markdown",
   "id": "63896cf8",
   "metadata": {},
   "source": [
    "# Reconocimiento de placas para una lista de imágenes"
   ]
  },
  {
   "cell_type": "code",
   "execution_count": 8,
   "id": "bc57c34d",
   "metadata": {},
   "outputs": [
    {
     "name": "stdout",
     "output_type": "stream",
     "text": [
      "coche01.jpeg\n",
      "coche02.jpeg\n",
      "coche03.jpeg\n",
      "coche04.jpeg\n",
      "coche08.jpg\n",
      "coche09.jpg\n",
      "coche14.jpeg\n",
      "coche15.jpeg\n",
      "coche16.jpeg\n",
      "coche17.jpeg\n",
      "cars3.png\n",
      "cars11.png\n",
      "cars14.png\n",
      "cars34.png\n",
      "cars53.png\n",
      "cars54.png\n",
      "cars65.png\n",
      "cars37.png\n",
      "cars39.png\n",
      "cars80.png\n",
      "cars96.png\n",
      "cars129.png\n",
      "cars133.png\n",
      "cars167.png\n",
      "cars208.png\n",
      "cars296.png\n"
     ]
    }
   ],
   "source": [
    "import cv2 as cv\n",
    "import numpy as np\n",
    "\n",
    "imagenes={0:'coche01.jpeg',1:'coche02.jpeg',2:'coche03.jpeg', 3:'coche04.jpeg',\n",
    "         6:'coche08.jpg', 7:'coche09.jpg',8: 'coche14.jpeg',9: 'coche15.jpeg',10:'coche16.jpeg', 11:'coche17.jpeg',\n",
    "         12:'cars3.png',13:'cars11.png',14:'cars14.png',15:'cars34.png',16:'cars53.png',17:'cars54.png',18:'cars65.png',\n",
    "         19: 'cars37.png', 20:'cars39.png',21:'cars80.png',22:'cars96.png',23:'cars129.png',24:'cars133.png',\n",
    "         25: 'cars167.png', 26:'cars208.png',28:'cars296.png'}\n",
    "\n",
    "for im in imagenes.values():\n",
    "    print(im)\n",
    "\n",
    "    img_color = cv.imread(im)\n",
    "    img_gris=cv.imread(im,cv.IMREAD_GRAYSCALE)\n",
    "    \n",
    "    blur = cv.GaussianBlur(img_gris, (11, 11), 0)\n",
    "    cv.imshow(\"Gaussiano\",blur)\n",
    "\n",
    "    clahe = cv.createCLAHE(clipLimit=1.5, tileGridSize=(8,8))\n",
    "    equ01 = clahe.apply(blur)\n",
    "    cv.imshow(\"Ecualizacióm\", equ01)\n",
    "\n",
    "    otsu_threshold, th4 = cv.threshold( equ01, 0, 255, cv.THRESH_OTSU)\n",
    "    \n",
    "    edges = cv.Canny(th4, 150, 350)\n",
    "\n",
    "    cv.imshow(\"Canny\", edges)\n",
    "\n",
    "    contours, hierarchy = cv.findContours(edges, cv.RETR_EXTERNAL, cv.CHAIN_APPROX_SIMPLE)\n",
    "\n",
    "    long_contours = [cnt for cnt in contours if (cv.arcLength(cnt, True) > 200 and (cv.arcLength(cnt, True) < 700))]\n",
    "    #alto, ancho, canales = img_color.shape\n",
    "\n",
    "    for lonc in (long_contours):\n",
    "        r= [x for [[x,y]]  in lonc]\n",
    "        s=[y for [[x,y]]  in lonc]\n",
    "        prop=(max(s)-min(s))-(max(r)-min(r))\n",
    "        if ((max(s)> round(alto/2)) and prop<0):\n",
    "            cv.rectangle(img_color,(min(r),min(s)),(max(r),max(s)),(0,255,0),3)  \n",
    "            \n",
    "\n",
    "    cv.imshow(\"Imagen resultante\", img_color)\n",
    "\n",
    "    cv.waitKey()\n",
    "\n",
    "    cv.destroyAllWindows()\n"
   ]
  },
  {
   "cell_type": "raw",
   "id": "b22dd69e",
   "metadata": {},
   "source": [
    "En el código anterior aparecen regiones candidatas a ser placas, faltaría incluir un proceso que permita discriminar entre estas y seleccionar solamente la placa."
   ]
  }
 ],
 "metadata": {
  "kernelspec": {
   "display_name": "Python 3 (ipykernel)",
   "language": "python",
   "name": "python3"
  },
  "language_info": {
   "codemirror_mode": {
    "name": "ipython",
    "version": 3
   },
   "file_extension": ".py",
   "mimetype": "text/x-python",
   "name": "python",
   "nbconvert_exporter": "python",
   "pygments_lexer": "ipython3",
   "version": "3.12.0"
  }
 },
 "nbformat": 4,
 "nbformat_minor": 5
}
